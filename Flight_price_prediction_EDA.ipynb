{
  "nbformat": 4,
  "nbformat_minor": 0,
  "metadata": {
    "colab": {
      "provenance": [],
      "authorship_tag": "ABX9TyObF+kCKGS0q5YIJR8zmdxB",
      "include_colab_link": true
    },
    "kernelspec": {
      "name": "python3",
      "display_name": "Python 3"
    },
    "language_info": {
      "name": "python"
    }
  },
  "cells": [
    {
      "cell_type": "markdown",
      "metadata": {
        "id": "view-in-github",
        "colab_type": "text"
      },
      "source": [
        "<a href=\"https://colab.research.google.com/github/chandansinghthakur/flight_price_prediction/blob/main/Flight_price_prediction_EDA.ipynb\" target=\"_parent\"><img src=\"https://colab.research.google.com/assets/colab-badge.svg\" alt=\"Open In Colab\"/></a>"
      ]
    },
    {
      "cell_type": "markdown",
      "source": [
        "#Project Name = Flight Fare Prediction"
      ],
      "metadata": {
        "id": "z_b4sre4q9Cj"
      }
    },
    {
      "cell_type": "markdown",
      "source": [
        "#Problem Statement\n",
        "### 1. This dataset comprises of Flight Price rtaken from Kaggle.\n",
        "### 2. A user can predict the price of Flight Fare based on input features.\n",
        "### 3. Prediction results can be useful for the traveller to get suggested price.\n",
        "#### 4. dataset_url= https://www.kaggle.com/datasets/nikhilmittal/flight-fare-prediction-mh\n",
        " "
      ],
      "metadata": {
        "id": "VxQRDtQrrhez"
      }
    },
    {
      "cell_type": "code",
      "source": [
        "url = r\"https://raw.githubusercontent.com/chandansinghthakur/flight_price_prediction/main/Flight%20Fare%20Prediction%20Dataset.csv\""
      ],
      "metadata": {
        "id": "xmQ43Br_rhNL"
      },
      "execution_count": 71,
      "outputs": []
    },
    {
      "cell_type": "markdown",
      "source": [
        "# Importing necessary libraries"
      ],
      "metadata": {
        "id": "o9JAozsmtvpU"
      }
    },
    {
      "cell_type": "code",
      "execution_count": 108,
      "metadata": {
        "id": "0_wn6Q41qkxx"
      },
      "outputs": [],
      "source": [
        "import pandas as pd\n",
        "import numpy as np\n",
        "import matplotlib.pyplot as plt\n",
        "%matplotlib inline\n",
        "import seaborn as sns\n",
        "import plotly.express as px\n",
        "import warnings\n",
        "warnings.filterwarnings(\"ignore\")\n",
        "from math import *\n"
      ]
    },
    {
      "cell_type": "markdown",
      "source": [
        "#Loading Flight data"
      ],
      "metadata": {
        "id": "nEMiLN4kBwAr"
      }
    },
    {
      "cell_type": "code",
      "source": [
        "df = pd.read_csv(url)\n",
        "df.head()"
      ],
      "metadata": {
        "colab": {
          "base_uri": "https://localhost:8080/",
          "height": 652
        },
        "id": "1LjG0a4ArLXM",
        "outputId": "29d4f429-f906-4d53-9adc-002d735bb84e"
      },
      "execution_count": 73,
      "outputs": [
        {
          "output_type": "execute_result",
          "data": {
            "text/plain": [
              "       Airline Date_of_Journey    Source Destination                  Route  \\\n",
              "0       IndiGo      24/03/2019  Banglore   New Delhi              BLR → DEL   \n",
              "1    Air India       1/05/2019   Kolkata    Banglore  CCU → IXR → BBI → BLR   \n",
              "2  Jet Airways       9/06/2019     Delhi      Cochin  DEL → LKO → BOM → COK   \n",
              "3       IndiGo      12/05/2019   Kolkata    Banglore        CCU → NAG → BLR   \n",
              "4       IndiGo      01/03/2019  Banglore   New Delhi        BLR → NAG → DEL   \n",
              "\n",
              "  Dep_Time  Arrival_Time Duration Total_Stops Additional_Info  Price  \n",
              "0    22:20  01:10 22 Mar   2h 50m    non-stop         No info   3897  \n",
              "1    05:50         13:15   7h 25m     2 stops         No info   7662  \n",
              "2    09:25  04:25 10 Jun      19h     2 stops         No info  13882  \n",
              "3    18:05         23:30   5h 25m      1 stop         No info   6218  \n",
              "4    16:50         21:35   4h 45m      1 stop         No info  13302  "
            ],
            "text/html": [
              "\n",
              "  <div id=\"df-e48e1fc4-ce39-4d13-b861-73d24091d946\">\n",
              "    <div class=\"colab-df-container\">\n",
              "      <div>\n",
              "<style scoped>\n",
              "    .dataframe tbody tr th:only-of-type {\n",
              "        vertical-align: middle;\n",
              "    }\n",
              "\n",
              "    .dataframe tbody tr th {\n",
              "        vertical-align: top;\n",
              "    }\n",
              "\n",
              "    .dataframe thead th {\n",
              "        text-align: right;\n",
              "    }\n",
              "</style>\n",
              "<table border=\"1\" class=\"dataframe\">\n",
              "  <thead>\n",
              "    <tr style=\"text-align: right;\">\n",
              "      <th></th>\n",
              "      <th>Airline</th>\n",
              "      <th>Date_of_Journey</th>\n",
              "      <th>Source</th>\n",
              "      <th>Destination</th>\n",
              "      <th>Route</th>\n",
              "      <th>Dep_Time</th>\n",
              "      <th>Arrival_Time</th>\n",
              "      <th>Duration</th>\n",
              "      <th>Total_Stops</th>\n",
              "      <th>Additional_Info</th>\n",
              "      <th>Price</th>\n",
              "    </tr>\n",
              "  </thead>\n",
              "  <tbody>\n",
              "    <tr>\n",
              "      <th>0</th>\n",
              "      <td>IndiGo</td>\n",
              "      <td>24/03/2019</td>\n",
              "      <td>Banglore</td>\n",
              "      <td>New Delhi</td>\n",
              "      <td>BLR → DEL</td>\n",
              "      <td>22:20</td>\n",
              "      <td>01:10 22 Mar</td>\n",
              "      <td>2h 50m</td>\n",
              "      <td>non-stop</td>\n",
              "      <td>No info</td>\n",
              "      <td>3897</td>\n",
              "    </tr>\n",
              "    <tr>\n",
              "      <th>1</th>\n",
              "      <td>Air India</td>\n",
              "      <td>1/05/2019</td>\n",
              "      <td>Kolkata</td>\n",
              "      <td>Banglore</td>\n",
              "      <td>CCU → IXR → BBI → BLR</td>\n",
              "      <td>05:50</td>\n",
              "      <td>13:15</td>\n",
              "      <td>7h 25m</td>\n",
              "      <td>2 stops</td>\n",
              "      <td>No info</td>\n",
              "      <td>7662</td>\n",
              "    </tr>\n",
              "    <tr>\n",
              "      <th>2</th>\n",
              "      <td>Jet Airways</td>\n",
              "      <td>9/06/2019</td>\n",
              "      <td>Delhi</td>\n",
              "      <td>Cochin</td>\n",
              "      <td>DEL → LKO → BOM → COK</td>\n",
              "      <td>09:25</td>\n",
              "      <td>04:25 10 Jun</td>\n",
              "      <td>19h</td>\n",
              "      <td>2 stops</td>\n",
              "      <td>No info</td>\n",
              "      <td>13882</td>\n",
              "    </tr>\n",
              "    <tr>\n",
              "      <th>3</th>\n",
              "      <td>IndiGo</td>\n",
              "      <td>12/05/2019</td>\n",
              "      <td>Kolkata</td>\n",
              "      <td>Banglore</td>\n",
              "      <td>CCU → NAG → BLR</td>\n",
              "      <td>18:05</td>\n",
              "      <td>23:30</td>\n",
              "      <td>5h 25m</td>\n",
              "      <td>1 stop</td>\n",
              "      <td>No info</td>\n",
              "      <td>6218</td>\n",
              "    </tr>\n",
              "    <tr>\n",
              "      <th>4</th>\n",
              "      <td>IndiGo</td>\n",
              "      <td>01/03/2019</td>\n",
              "      <td>Banglore</td>\n",
              "      <td>New Delhi</td>\n",
              "      <td>BLR → NAG → DEL</td>\n",
              "      <td>16:50</td>\n",
              "      <td>21:35</td>\n",
              "      <td>4h 45m</td>\n",
              "      <td>1 stop</td>\n",
              "      <td>No info</td>\n",
              "      <td>13302</td>\n",
              "    </tr>\n",
              "  </tbody>\n",
              "</table>\n",
              "</div>\n",
              "      <button class=\"colab-df-convert\" onclick=\"convertToInteractive('df-e48e1fc4-ce39-4d13-b861-73d24091d946')\"\n",
              "              title=\"Convert this dataframe to an interactive table.\"\n",
              "              style=\"display:none;\">\n",
              "        \n",
              "  <svg xmlns=\"http://www.w3.org/2000/svg\" height=\"24px\"viewBox=\"0 0 24 24\"\n",
              "       width=\"24px\">\n",
              "    <path d=\"M0 0h24v24H0V0z\" fill=\"none\"/>\n",
              "    <path d=\"M18.56 5.44l.94 2.06.94-2.06 2.06-.94-2.06-.94-.94-2.06-.94 2.06-2.06.94zm-11 1L8.5 8.5l.94-2.06 2.06-.94-2.06-.94L8.5 2.5l-.94 2.06-2.06.94zm10 10l.94 2.06.94-2.06 2.06-.94-2.06-.94-.94-2.06-.94 2.06-2.06.94z\"/><path d=\"M17.41 7.96l-1.37-1.37c-.4-.4-.92-.59-1.43-.59-.52 0-1.04.2-1.43.59L10.3 9.45l-7.72 7.72c-.78.78-.78 2.05 0 2.83L4 21.41c.39.39.9.59 1.41.59.51 0 1.02-.2 1.41-.59l7.78-7.78 2.81-2.81c.8-.78.8-2.07 0-2.86zM5.41 20L4 18.59l7.72-7.72 1.47 1.35L5.41 20z\"/>\n",
              "  </svg>\n",
              "      </button>\n",
              "      \n",
              "  <style>\n",
              "    .colab-df-container {\n",
              "      display:flex;\n",
              "      flex-wrap:wrap;\n",
              "      gap: 12px;\n",
              "    }\n",
              "\n",
              "    .colab-df-convert {\n",
              "      background-color: #E8F0FE;\n",
              "      border: none;\n",
              "      border-radius: 50%;\n",
              "      cursor: pointer;\n",
              "      display: none;\n",
              "      fill: #1967D2;\n",
              "      height: 32px;\n",
              "      padding: 0 0 0 0;\n",
              "      width: 32px;\n",
              "    }\n",
              "\n",
              "    .colab-df-convert:hover {\n",
              "      background-color: #E2EBFA;\n",
              "      box-shadow: 0px 1px 2px rgba(60, 64, 67, 0.3), 0px 1px 3px 1px rgba(60, 64, 67, 0.15);\n",
              "      fill: #174EA6;\n",
              "    }\n",
              "\n",
              "    [theme=dark] .colab-df-convert {\n",
              "      background-color: #3B4455;\n",
              "      fill: #D2E3FC;\n",
              "    }\n",
              "\n",
              "    [theme=dark] .colab-df-convert:hover {\n",
              "      background-color: #434B5C;\n",
              "      box-shadow: 0px 1px 3px 1px rgba(0, 0, 0, 0.15);\n",
              "      filter: drop-shadow(0px 1px 2px rgba(0, 0, 0, 0.3));\n",
              "      fill: #FFFFFF;\n",
              "    }\n",
              "  </style>\n",
              "\n",
              "      <script>\n",
              "        const buttonEl =\n",
              "          document.querySelector('#df-e48e1fc4-ce39-4d13-b861-73d24091d946 button.colab-df-convert');\n",
              "        buttonEl.style.display =\n",
              "          google.colab.kernel.accessAllowed ? 'block' : 'none';\n",
              "\n",
              "        async function convertToInteractive(key) {\n",
              "          const element = document.querySelector('#df-e48e1fc4-ce39-4d13-b861-73d24091d946');\n",
              "          const dataTable =\n",
              "            await google.colab.kernel.invokeFunction('convertToInteractive',\n",
              "                                                     [key], {});\n",
              "          if (!dataTable) return;\n",
              "\n",
              "          const docLinkHtml = 'Like what you see? Visit the ' +\n",
              "            '<a target=\"_blank\" href=https://colab.research.google.com/notebooks/data_table.ipynb>data table notebook</a>'\n",
              "            + ' to learn more about interactive tables.';\n",
              "          element.innerHTML = '';\n",
              "          dataTable['output_type'] = 'display_data';\n",
              "          await google.colab.output.renderOutput(dataTable, element);\n",
              "          const docLink = document.createElement('div');\n",
              "          docLink.innerHTML = docLinkHtml;\n",
              "          element.appendChild(docLink);\n",
              "        }\n",
              "      </script>\n",
              "    </div>\n",
              "  </div>\n",
              "  "
            ]
          },
          "metadata": {},
          "execution_count": 73
        }
      ]
    },
    {
      "cell_type": "code",
      "source": [
        "df.shape"
      ],
      "metadata": {
        "colab": {
          "base_uri": "https://localhost:8080/"
        },
        "id": "p38nagPaB48E",
        "outputId": "3913720f-11c8-4451-e726-4f22c97906d3"
      },
      "execution_count": 74,
      "outputs": [
        {
          "output_type": "execute_result",
          "data": {
            "text/plain": [
              "(10683, 11)"
            ]
          },
          "metadata": {},
          "execution_count": 74
        }
      ]
    },
    {
      "cell_type": "markdown",
      "source": [
        "#summary of dataset"
      ],
      "metadata": {
        "id": "ek7geiRbCIdU"
      }
    },
    {
      "cell_type": "code",
      "source": [
        "df.describe()"
      ],
      "metadata": {
        "colab": {
          "base_uri": "https://localhost:8080/",
          "height": 300
        },
        "id": "FXakQuUbCFWl",
        "outputId": "b800fd75-961f-4ca7-a2fb-589747d85476"
      },
      "execution_count": 75,
      "outputs": [
        {
          "output_type": "execute_result",
          "data": {
            "text/plain": [
              "              Price\n",
              "count  10683.000000\n",
              "mean    9087.064121\n",
              "std     4611.359167\n",
              "min     1759.000000\n",
              "25%     5277.000000\n",
              "50%     8372.000000\n",
              "75%    12373.000000\n",
              "max    79512.000000"
            ],
            "text/html": [
              "\n",
              "  <div id=\"df-f5a5b1b1-8e15-425e-b857-ef5b36b37296\">\n",
              "    <div class=\"colab-df-container\">\n",
              "      <div>\n",
              "<style scoped>\n",
              "    .dataframe tbody tr th:only-of-type {\n",
              "        vertical-align: middle;\n",
              "    }\n",
              "\n",
              "    .dataframe tbody tr th {\n",
              "        vertical-align: top;\n",
              "    }\n",
              "\n",
              "    .dataframe thead th {\n",
              "        text-align: right;\n",
              "    }\n",
              "</style>\n",
              "<table border=\"1\" class=\"dataframe\">\n",
              "  <thead>\n",
              "    <tr style=\"text-align: right;\">\n",
              "      <th></th>\n",
              "      <th>Price</th>\n",
              "    </tr>\n",
              "  </thead>\n",
              "  <tbody>\n",
              "    <tr>\n",
              "      <th>count</th>\n",
              "      <td>10683.000000</td>\n",
              "    </tr>\n",
              "    <tr>\n",
              "      <th>mean</th>\n",
              "      <td>9087.064121</td>\n",
              "    </tr>\n",
              "    <tr>\n",
              "      <th>std</th>\n",
              "      <td>4611.359167</td>\n",
              "    </tr>\n",
              "    <tr>\n",
              "      <th>min</th>\n",
              "      <td>1759.000000</td>\n",
              "    </tr>\n",
              "    <tr>\n",
              "      <th>25%</th>\n",
              "      <td>5277.000000</td>\n",
              "    </tr>\n",
              "    <tr>\n",
              "      <th>50%</th>\n",
              "      <td>8372.000000</td>\n",
              "    </tr>\n",
              "    <tr>\n",
              "      <th>75%</th>\n",
              "      <td>12373.000000</td>\n",
              "    </tr>\n",
              "    <tr>\n",
              "      <th>max</th>\n",
              "      <td>79512.000000</td>\n",
              "    </tr>\n",
              "  </tbody>\n",
              "</table>\n",
              "</div>\n",
              "      <button class=\"colab-df-convert\" onclick=\"convertToInteractive('df-f5a5b1b1-8e15-425e-b857-ef5b36b37296')\"\n",
              "              title=\"Convert this dataframe to an interactive table.\"\n",
              "              style=\"display:none;\">\n",
              "        \n",
              "  <svg xmlns=\"http://www.w3.org/2000/svg\" height=\"24px\"viewBox=\"0 0 24 24\"\n",
              "       width=\"24px\">\n",
              "    <path d=\"M0 0h24v24H0V0z\" fill=\"none\"/>\n",
              "    <path d=\"M18.56 5.44l.94 2.06.94-2.06 2.06-.94-2.06-.94-.94-2.06-.94 2.06-2.06.94zm-11 1L8.5 8.5l.94-2.06 2.06-.94-2.06-.94L8.5 2.5l-.94 2.06-2.06.94zm10 10l.94 2.06.94-2.06 2.06-.94-2.06-.94-.94-2.06-.94 2.06-2.06.94z\"/><path d=\"M17.41 7.96l-1.37-1.37c-.4-.4-.92-.59-1.43-.59-.52 0-1.04.2-1.43.59L10.3 9.45l-7.72 7.72c-.78.78-.78 2.05 0 2.83L4 21.41c.39.39.9.59 1.41.59.51 0 1.02-.2 1.41-.59l7.78-7.78 2.81-2.81c.8-.78.8-2.07 0-2.86zM5.41 20L4 18.59l7.72-7.72 1.47 1.35L5.41 20z\"/>\n",
              "  </svg>\n",
              "      </button>\n",
              "      \n",
              "  <style>\n",
              "    .colab-df-container {\n",
              "      display:flex;\n",
              "      flex-wrap:wrap;\n",
              "      gap: 12px;\n",
              "    }\n",
              "\n",
              "    .colab-df-convert {\n",
              "      background-color: #E8F0FE;\n",
              "      border: none;\n",
              "      border-radius: 50%;\n",
              "      cursor: pointer;\n",
              "      display: none;\n",
              "      fill: #1967D2;\n",
              "      height: 32px;\n",
              "      padding: 0 0 0 0;\n",
              "      width: 32px;\n",
              "    }\n",
              "\n",
              "    .colab-df-convert:hover {\n",
              "      background-color: #E2EBFA;\n",
              "      box-shadow: 0px 1px 2px rgba(60, 64, 67, 0.3), 0px 1px 3px 1px rgba(60, 64, 67, 0.15);\n",
              "      fill: #174EA6;\n",
              "    }\n",
              "\n",
              "    [theme=dark] .colab-df-convert {\n",
              "      background-color: #3B4455;\n",
              "      fill: #D2E3FC;\n",
              "    }\n",
              "\n",
              "    [theme=dark] .colab-df-convert:hover {\n",
              "      background-color: #434B5C;\n",
              "      box-shadow: 0px 1px 3px 1px rgba(0, 0, 0, 0.15);\n",
              "      filter: drop-shadow(0px 1px 2px rgba(0, 0, 0, 0.3));\n",
              "      fill: #FFFFFF;\n",
              "    }\n",
              "  </style>\n",
              "\n",
              "      <script>\n",
              "        const buttonEl =\n",
              "          document.querySelector('#df-f5a5b1b1-8e15-425e-b857-ef5b36b37296 button.colab-df-convert');\n",
              "        buttonEl.style.display =\n",
              "          google.colab.kernel.accessAllowed ? 'block' : 'none';\n",
              "\n",
              "        async function convertToInteractive(key) {\n",
              "          const element = document.querySelector('#df-f5a5b1b1-8e15-425e-b857-ef5b36b37296');\n",
              "          const dataTable =\n",
              "            await google.colab.kernel.invokeFunction('convertToInteractive',\n",
              "                                                     [key], {});\n",
              "          if (!dataTable) return;\n",
              "\n",
              "          const docLinkHtml = 'Like what you see? Visit the ' +\n",
              "            '<a target=\"_blank\" href=https://colab.research.google.com/notebooks/data_table.ipynb>data table notebook</a>'\n",
              "            + ' to learn more about interactive tables.';\n",
              "          element.innerHTML = '';\n",
              "          dataTable['output_type'] = 'display_data';\n",
              "          await google.colab.output.renderOutput(dataTable, element);\n",
              "          const docLink = document.createElement('div');\n",
              "          docLink.innerHTML = docLinkHtml;\n",
              "          element.appendChild(docLink);\n",
              "        }\n",
              "      </script>\n",
              "    </div>\n",
              "  </div>\n",
              "  "
            ]
          },
          "metadata": {},
          "execution_count": 75
        }
      ]
    },
    {
      "cell_type": "code",
      "source": [
        "#check null values and datatypes\n",
        "df.info()"
      ],
      "metadata": {
        "colab": {
          "base_uri": "https://localhost:8080/"
        },
        "id": "2kCrAQXfCORF",
        "outputId": "dc3fa067-f3ef-4893-fcee-43ade01eac1b"
      },
      "execution_count": 76,
      "outputs": [
        {
          "output_type": "stream",
          "name": "stdout",
          "text": [
            "<class 'pandas.core.frame.DataFrame'>\n",
            "RangeIndex: 10683 entries, 0 to 10682\n",
            "Data columns (total 11 columns):\n",
            " #   Column           Non-Null Count  Dtype \n",
            "---  ------           --------------  ----- \n",
            " 0   Airline          10683 non-null  object\n",
            " 1   Date_of_Journey  10683 non-null  object\n",
            " 2   Source           10683 non-null  object\n",
            " 3   Destination      10683 non-null  object\n",
            " 4   Route            10682 non-null  object\n",
            " 5   Dep_Time         10683 non-null  object\n",
            " 6   Arrival_Time     10683 non-null  object\n",
            " 7   Duration         10683 non-null  object\n",
            " 8   Total_Stops      10682 non-null  object\n",
            " 9   Additional_Info  10683 non-null  object\n",
            " 10  Price            10683 non-null  int64 \n",
            "dtypes: int64(1), object(10)\n",
            "memory usage: 918.2+ KB\n"
          ]
        }
      ]
    },
    {
      "cell_type": "markdown",
      "source": [
        "#Exploring the DATA"
      ],
      "metadata": {
        "id": "PTsVJsXxDAUs"
      }
    },
    {
      "cell_type": "code",
      "source": [
        "features = df.columns\n",
        "features"
      ],
      "metadata": {
        "colab": {
          "base_uri": "https://localhost:8080/"
        },
        "id": "tMj3DT2hDYzM",
        "outputId": "8452797c-98ce-4be8-8ceb-3a8ceff3d222"
      },
      "execution_count": 77,
      "outputs": [
        {
          "output_type": "execute_result",
          "data": {
            "text/plain": [
              "Index(['Airline', 'Date_of_Journey', 'Source', 'Destination', 'Route',\n",
              "       'Dep_Time', 'Arrival_Time', 'Duration', 'Total_Stops',\n",
              "       'Additional_Info', 'Price'],\n",
              "      dtype='object')"
            ]
          },
          "metadata": {},
          "execution_count": 77
        }
      ]
    },
    {
      "cell_type": "code",
      "source": [
        "#definig the numerical and categorical features\n",
        "numeric_feature = [feature for feature in features if df[feature].dtype != 'O']\n",
        "cat_feature = [feature for feature in features if df[feature].dtype == 'O']\n",
        "\n",
        "print(f\"we have {len(numeric_feature)} numerical features : {numeric_feature} \")\n",
        "print(f\"we have {len(cat_feature)} numerical features : {cat_feature} \")"
      ],
      "metadata": {
        "colab": {
          "base_uri": "https://localhost:8080/"
        },
        "id": "iViptgBkCf-c",
        "outputId": "ff289166-1696-4a14-cee5-8d7793694e5c"
      },
      "execution_count": 78,
      "outputs": [
        {
          "output_type": "stream",
          "name": "stdout",
          "text": [
            "we have 1 numerical features : ['Price'] \n",
            "we have 10 numerical features : ['Airline', 'Date_of_Journey', 'Source', 'Destination', 'Route', 'Dep_Time', 'Arrival_Time', 'Duration', 'Total_Stops', 'Additional_Info'] \n"
          ]
        }
      ]
    },
    {
      "cell_type": "markdown",
      "source": [
        "#Feature Information\n",
        "**Airline**: Name of the Airline from which the Ticket is Booked.\n",
        "\n",
        "**Date_of_Journey**: Date of Journey of the Traveller.\n",
        "\n",
        "**Source**: Source from which the Airline Would Departure.\n",
        "\n",
        "**Destination**: Destination to Which Airline Would Arrive.\n",
        "\n",
        "**Route**: Route of the Airline from Source to Destination.\n",
        "\n",
        "**Dep_Time**: Time at which Flight Would Departure from the Source.\n",
        "\n",
        "**Arrival_Time**: Time at which Flight Would Arrive at the Destination.\n",
        "\n",
        "**Duration**: Duration that Airline Takes to fly from Source to Destination.\n",
        "\n",
        "**Total_Stops**: Total No of Stops that Airline takes Between Source and Destination.\n",
        "\n",
        "**Additional_Info**: Any Additional Info about the Airline.\n",
        "\n",
        "**Price**: Fare of the Ticket to fly from Source to Destination."
      ],
      "metadata": {
        "id": "fq5nSGEEKwnz"
      }
    },
    {
      "cell_type": "code",
      "source": [
        "#Proportion of count data of each categorical columns\n",
        "for col in cat_feature:\n",
        "  print(df[col].value_counts(normalize=True)*100)\n",
        "  print(\"------------------------------------------------------------------------------------\")"
      ],
      "metadata": {
        "colab": {
          "base_uri": "https://localhost:8080/"
        },
        "id": "4YfICoQTEBqs",
        "outputId": "9919225d-098d-4f6e-9b34-0bcb686fe4f5"
      },
      "execution_count": 79,
      "outputs": [
        {
          "output_type": "stream",
          "name": "stdout",
          "text": [
            "Jet Airways                          36.029205\n",
            "IndiGo                               19.217448\n",
            "Air India                            16.399888\n",
            "Multiple carriers                    11.195357\n",
            "SpiceJet                              7.657025\n",
            "Vistara                               4.483759\n",
            "Air Asia                              2.986053\n",
            "GoAir                                 1.815969\n",
            "Multiple carriers Premium economy     0.121689\n",
            "Jet Airways Business                  0.056164\n",
            "Vistara Premium economy               0.028082\n",
            "Trujet                                0.009361\n",
            "Name: Airline, dtype: float64\n",
            "------------------------------------------------------------------------------------\n",
            "18/05/2019    4.717776\n",
            "6/06/2019     4.708415\n",
            "21/05/2019    4.652251\n",
            "9/06/2019     4.633530\n",
            "12/06/2019    4.614809\n",
            "9/05/2019     4.530563\n",
            "21/03/2019    3.959562\n",
            "15/05/2019    3.791070\n",
            "27/05/2019    3.575775\n",
            "27/06/2019    3.323037\n",
            "24/06/2019    3.285594\n",
            "1/06/2019     3.201348\n",
            "3/06/2019     3.117102\n",
            "15/06/2019    3.070299\n",
            "24/03/2019    3.023495\n",
            "6/03/2019     2.883085\n",
            "27/03/2019    2.798839\n",
            "24/05/2019    2.677151\n",
            "6/05/2019     2.639708\n",
            "1/05/2019     2.592905\n",
            "12/05/2019    2.424413\n",
            "1/04/2019     2.405691\n",
            "3/03/2019     2.040625\n",
            "9/03/2019     1.872133\n",
            "15/03/2019    1.516428\n",
            "18/03/2019    1.460264\n",
            "01/03/2019    1.422821\n",
            "12/03/2019    1.329215\n",
            "9/04/2019     1.170083\n",
            "3/04/2019     1.029673\n",
            "21/06/2019    1.020313\n",
            "18/06/2019    0.982870\n",
            "09/03/2019    0.954788\n",
            "6/04/2019     0.936067\n",
            "03/03/2019    0.907985\n",
            "06/03/2019    0.889263\n",
            "27/04/2019    0.879903\n",
            "24/04/2019    0.861181\n",
            "3/05/2019     0.842460\n",
            "15/04/2019    0.833099\n",
            "21/04/2019    0.767575\n",
            "18/04/2019    0.627165\n",
            "12/04/2019    0.589722\n",
            "1/03/2019     0.439951\n",
            "Name: Date_of_Journey, dtype: float64\n",
            "------------------------------------------------------------------------------------\n",
            "Delhi       42.469344\n",
            "Kolkata     26.874473\n",
            "Banglore    20.565384\n",
            "Mumbai       6.524385\n",
            "Chennai      3.566414\n",
            "Name: Source, dtype: float64\n",
            "------------------------------------------------------------------------------------\n",
            "Cochin       42.469344\n",
            "Banglore     26.874473\n",
            "Delhi        11.841243\n",
            "New Delhi     8.724141\n",
            "Hyderabad     6.524385\n",
            "Kolkata       3.566414\n",
            "Name: Destination, dtype: float64\n",
            "------------------------------------------------------------------------------------\n",
            "DEL → BOM → COK          22.243026\n",
            "BLR → DEL                14.529114\n",
            "CCU → BOM → BLR           9.164950\n",
            "CCU → BLR                 6.777757\n",
            "BOM → HYD                 5.813518\n",
            "                           ...    \n",
            "CCU → VTZ → BLR           0.009362\n",
            "CCU → IXZ → MAA → BLR     0.009362\n",
            "BOM → COK → MAA → HYD     0.009362\n",
            "BOM → CCU → HYD           0.009362\n",
            "BOM → BBI → HYD           0.009362\n",
            "Name: Route, Length: 128, dtype: float64\n",
            "------------------------------------------------------------------------------------\n",
            "18:55    2.181035\n",
            "17:00    2.124871\n",
            "07:05    1.918937\n",
            "10:00    1.900215\n",
            "07:10    1.890855\n",
            "           ...   \n",
            "16:25    0.009361\n",
            "01:35    0.009361\n",
            "21:35    0.009361\n",
            "04:15    0.009361\n",
            "03:00    0.009361\n",
            "Name: Dep_Time, Length: 222, dtype: float64\n",
            "------------------------------------------------------------------------------------\n",
            "19:00           3.959562\n",
            "21:00           3.369840\n",
            "19:15           3.117102\n",
            "16:10           1.441543\n",
            "12:35           1.142001\n",
            "                  ...   \n",
            "00:25 02 Jun    0.009361\n",
            "08:55 13 Mar    0.009361\n",
            "11:05 19 May    0.009361\n",
            "12:30 22 May    0.009361\n",
            "21:20 13 Mar    0.009361\n",
            "Name: Arrival_Time, Length: 1343, dtype: float64\n",
            "------------------------------------------------------------------------------------\n",
            "2h 50m     5.148367\n",
            "1h 30m     3.613217\n",
            "2h 45m     3.154545\n",
            "2h 55m     3.154545\n",
            "2h 35m     3.079659\n",
            "             ...   \n",
            "31h 30m    0.009361\n",
            "30h 25m    0.009361\n",
            "42h 5m     0.009361\n",
            "4h 10m     0.009361\n",
            "47h 40m    0.009361\n",
            "Name: Duration, Length: 368, dtype: float64\n",
            "------------------------------------------------------------------------------------\n",
            "1 stop      52.658678\n",
            "non-stop    32.681146\n",
            "2 stops     14.229545\n",
            "3 stops      0.421269\n",
            "4 stops      0.009362\n",
            "Name: Total_Stops, dtype: float64\n",
            "------------------------------------------------------------------------------------\n",
            "No info                         78.114762\n",
            "In-flight meal not included     18.552841\n",
            "No check-in baggage included     2.995413\n",
            "1 Long layover                   0.177853\n",
            "Change airports                  0.065525\n",
            "Business class                   0.037443\n",
            "No Info                          0.028082\n",
            "1 Short layover                  0.009361\n",
            "Red-eye flight                   0.009361\n",
            "2 Long layover                   0.009361\n",
            "Name: Additional_Info, dtype: float64\n",
            "------------------------------------------------------------------------------------\n"
          ]
        }
      ]
    },
    {
      "cell_type": "markdown",
      "source": [
        "#Univariate analysis"
      ],
      "metadata": {
        "id": "M1HG5gVhNdWa"
      }
    },
    {
      "cell_type": "code",
      "source": [
        "# categorical columns\n",
        "plt.figure(figsize=(20,20))\n",
        "plt.suptitle('Univariate analysis of categorical features',fontweight=20)\n",
        "cat1 = ['Airline', 'Source', 'Destination']\n",
        "for i in range(0, len(cat1)):\n",
        "  plt.subplot(2,2,i+1)\n",
        "  sns.countplot(x=df[cat1[i]])\n",
        "  plt.xticks(rotation=90)\n"
      ],
      "metadata": {
        "colab": {
          "base_uri": "https://localhost:8080/",
          "height": 776
        },
        "id": "Tq6L7DvgM8aJ",
        "outputId": "577bdfe9-95ff-409e-e2b2-0cc50759b460"
      },
      "execution_count": 80,
      "outputs": [
        {
          "output_type": "display_data",
          "data": {
            "text/plain": [
              "<Figure size 1440x1440 with 3 Axes>"
            ],
            "image/png": "[encoded data removed]"
          },
          "metadata": {
            "needs_background": "light"
          }
        }
      ]
    },
    {
      "cell_type": "markdown",
      "source": [
        "# Multivariate analysis"
      ],
      "metadata": {
        "id": "9qS1pkxN6fO4"
      }
    },
    {
      "cell_type": "code",
      "source": [
        "#checking milticollinearity for categorical features\n",
        "from scipy.stats import chi2_contingency\n",
        "chi2_test = []\n",
        "for feature in cat_feature:\n",
        "  if chi2_contingency(pd.crosstab(df['Price'],df[feature]))[1]<0.05:\n",
        "    chi2_test.append('Reject Null Hypothesis')\n",
        "  else:\n",
        "    chi2_test.append('Accept Null Hypothesis')\n",
        "\n",
        "result  = pd.DataFrame(data=[cat_feature,chi2_test]).T\n",
        "result.columns = ['Column', 'Hypothesis Result']\n",
        "result"
      ],
      "metadata": {
        "colab": {
          "base_uri": "https://localhost:8080/",
          "height": 363
        },
        "id": "CL4R0wYG5tJR",
        "outputId": "3f7fa721-6caa-46ad-fda4-d44e926ab621"
      },
      "execution_count": 81,
      "outputs": [
        {
          "output_type": "execute_result",
          "data": {
            "text/plain": [
              "            Column       Hypothesis Result\n",
              "0          Airline  Reject Null Hypothesis\n",
              "1  Date_of_Journey  Reject Null Hypothesis\n",
              "2           Source  Reject Null Hypothesis\n",
              "3      Destination  Reject Null Hypothesis\n",
              "4            Route  Reject Null Hypothesis\n",
              "5         Dep_Time  Reject Null Hypothesis\n",
              "6     Arrival_Time  Reject Null Hypothesis\n",
              "7         Duration  Reject Null Hypothesis\n",
              "8      Total_Stops  Reject Null Hypothesis\n",
              "9  Additional_Info  Reject Null Hypothesis"
            ],
            "text/html": [
              "\n",
              "  <div id=\"df-23b3f66e-24f4-4df4-ba51-1804a6b923ad\">\n",
              "    <div class=\"colab-df-container\">\n",
              "      <div>\n",
              "<style scoped>\n",
              "    .dataframe tbody tr th:only-of-type {\n",
              "        vertical-align: middle;\n",
              "    }\n",
              "\n",
              "    .dataframe tbody tr th {\n",
              "        vertical-align: top;\n",
              "    }\n",
              "\n",
              "    .dataframe thead th {\n",
              "        text-align: right;\n",
              "    }\n",
              "</style>\n",
              "<table border=\"1\" class=\"dataframe\">\n",
              "  <thead>\n",
              "    <tr style=\"text-align: right;\">\n",
              "      <th></th>\n",
              "      <th>Column</th>\n",
              "      <th>Hypothesis Result</th>\n",
              "    </tr>\n",
              "  </thead>\n",
              "  <tbody>\n",
              "    <tr>\n",
              "      <th>0</th>\n",
              "      <td>Airline</td>\n",
              "      <td>Reject Null Hypothesis</td>\n",
              "    </tr>\n",
              "    <tr>\n",
              "      <th>1</th>\n",
              "      <td>Date_of_Journey</td>\n",
              "      <td>Reject Null Hypothesis</td>\n",
              "    </tr>\n",
              "    <tr>\n",
              "      <th>2</th>\n",
              "      <td>Source</td>\n",
              "      <td>Reject Null Hypothesis</td>\n",
              "    </tr>\n",
              "    <tr>\n",
              "      <th>3</th>\n",
              "      <td>Destination</td>\n",
              "      <td>Reject Null Hypothesis</td>\n",
              "    </tr>\n",
              "    <tr>\n",
              "      <th>4</th>\n",
              "      <td>Route</td>\n",
              "      <td>Reject Null Hypothesis</td>\n",
              "    </tr>\n",
              "    <tr>\n",
              "      <th>5</th>\n",
              "      <td>Dep_Time</td>\n",
              "      <td>Reject Null Hypothesis</td>\n",
              "    </tr>\n",
              "    <tr>\n",
              "      <th>6</th>\n",
              "      <td>Arrival_Time</td>\n",
              "      <td>Reject Null Hypothesis</td>\n",
              "    </tr>\n",
              "    <tr>\n",
              "      <th>7</th>\n",
              "      <td>Duration</td>\n",
              "      <td>Reject Null Hypothesis</td>\n",
              "    </tr>\n",
              "    <tr>\n",
              "      <th>8</th>\n",
              "      <td>Total_Stops</td>\n",
              "      <td>Reject Null Hypothesis</td>\n",
              "    </tr>\n",
              "    <tr>\n",
              "      <th>9</th>\n",
              "      <td>Additional_Info</td>\n",
              "      <td>Reject Null Hypothesis</td>\n",
              "    </tr>\n",
              "  </tbody>\n",
              "</table>\n",
              "</div>\n",
              "      <button class=\"colab-df-convert\" onclick=\"convertToInteractive('df-23b3f66e-24f4-4df4-ba51-1804a6b923ad')\"\n",
              "              title=\"Convert this dataframe to an interactive table.\"\n",
              "              style=\"display:none;\">\n",
              "        \n",
              "  <svg xmlns=\"http://www.w3.org/2000/svg\" height=\"24px\"viewBox=\"0 0 24 24\"\n",
              "       width=\"24px\">\n",
              "    <path d=\"M0 0h24v24H0V0z\" fill=\"none\"/>\n",
              "    <path d=\"M18.56 5.44l.94 2.06.94-2.06 2.06-.94-2.06-.94-.94-2.06-.94 2.06-2.06.94zm-11 1L8.5 8.5l.94-2.06 2.06-.94-2.06-.94L8.5 2.5l-.94 2.06-2.06.94zm10 10l.94 2.06.94-2.06 2.06-.94-2.06-.94-.94-2.06-.94 2.06-2.06.94z\"/><path d=\"M17.41 7.96l-1.37-1.37c-.4-.4-.92-.59-1.43-.59-.52 0-1.04.2-1.43.59L10.3 9.45l-7.72 7.72c-.78.78-.78 2.05 0 2.83L4 21.41c.39.39.9.59 1.41.59.51 0 1.02-.2 1.41-.59l7.78-7.78 2.81-2.81c.8-.78.8-2.07 0-2.86zM5.41 20L4 18.59l7.72-7.72 1.47 1.35L5.41 20z\"/>\n",
              "  </svg>\n",
              "      </button>\n",
              "      \n",
              "  <style>\n",
              "    .colab-df-container {\n",
              "      display:flex;\n",
              "      flex-wrap:wrap;\n",
              "      gap: 12px;\n",
              "    }\n",
              "\n",
              "    .colab-df-convert {\n",
              "      background-color: #E8F0FE;\n",
              "      border: none;\n",
              "      border-radius: 50%;\n",
              "      cursor: pointer;\n",
              "      display: none;\n",
              "      fill: #1967D2;\n",
              "      height: 32px;\n",
              "      padding: 0 0 0 0;\n",
              "      width: 32px;\n",
              "    }\n",
              "\n",
              "    .colab-df-convert:hover {\n",
              "      background-color: #E2EBFA;\n",
              "      box-shadow: 0px 1px 2px rgba(60, 64, 67, 0.3), 0px 1px 3px 1px rgba(60, 64, 67, 0.15);\n",
              "      fill: #174EA6;\n",
              "    }\n",
              "\n",
              "    [theme=dark] .colab-df-convert {\n",
              "      background-color: #3B4455;\n",
              "      fill: #D2E3FC;\n",
              "    }\n",
              "\n",
              "    [theme=dark] .colab-df-convert:hover {\n",
              "      background-color: #434B5C;\n",
              "      box-shadow: 0px 1px 3px 1px rgba(0, 0, 0, 0.15);\n",
              "      filter: drop-shadow(0px 1px 2px rgba(0, 0, 0, 0.3));\n",
              "      fill: #FFFFFF;\n",
              "    }\n",
              "  </style>\n",
              "\n",
              "      <script>\n",
              "        const buttonEl =\n",
              "          document.querySelector('#df-23b3f66e-24f4-4df4-ba51-1804a6b923ad button.colab-df-convert');\n",
              "        buttonEl.style.display =\n",
              "          google.colab.kernel.accessAllowed ? 'block' : 'none';\n",
              "\n",
              "        async function convertToInteractive(key) {\n",
              "          const element = document.querySelector('#df-23b3f66e-24f4-4df4-ba51-1804a6b923ad');\n",
              "          const dataTable =\n",
              "            await google.colab.kernel.invokeFunction('convertToInteractive',\n",
              "                                                     [key], {});\n",
              "          if (!dataTable) return;\n",
              "\n",
              "          const docLinkHtml = 'Like what you see? Visit the ' +\n",
              "            '<a target=\"_blank\" href=https://colab.research.google.com/notebooks/data_table.ipynb>data table notebook</a>'\n",
              "            + ' to learn more about interactive tables.';\n",
              "          element.innerHTML = '';\n",
              "          dataTable['output_type'] = 'display_data';\n",
              "          await google.colab.output.renderOutput(dataTable, element);\n",
              "          const docLink = document.createElement('div');\n",
              "          docLink.innerHTML = docLinkHtml;\n",
              "          element.appendChild(docLink);\n",
              "        }\n",
              "      </script>\n",
              "    </div>\n",
              "  </div>\n",
              "  "
            ]
          },
          "metadata": {},
          "execution_count": 81
        }
      ]
    },
    {
      "cell_type": "code",
      "source": [
        "#Checking Null Values\n",
        "df.isnull().sum()"
      ],
      "metadata": {
        "colab": {
          "base_uri": "https://localhost:8080/"
        },
        "id": "xdrxLJf5765y",
        "outputId": "eb5963c3-2fef-4c71-8554-f0b67099b808"
      },
      "execution_count": 82,
      "outputs": [
        {
          "output_type": "execute_result",
          "data": {
            "text/plain": [
              "Airline            0\n",
              "Date_of_Journey    0\n",
              "Source             0\n",
              "Destination        0\n",
              "Route              1\n",
              "Dep_Time           0\n",
              "Arrival_Time       0\n",
              "Duration           0\n",
              "Total_Stops        1\n",
              "Additional_Info    0\n",
              "Price              0\n",
              "dtype: int64"
            ]
          },
          "metadata": {},
          "execution_count": 82
        }
      ]
    },
    {
      "cell_type": "code",
      "source": [
        "#Dropping null values\n",
        "df.dropna(inplace=True)"
      ],
      "metadata": {
        "id": "DZkUWgBO8g5X"
      },
      "execution_count": 83,
      "outputs": []
    },
    {
      "cell_type": "code",
      "source": [
        "df.isnull().sum()"
      ],
      "metadata": {
        "colab": {
          "base_uri": "https://localhost:8080/"
        },
        "id": "eoEt3_6g9bNv",
        "outputId": "1d86028a-6def-4e3d-d562-ddd62f620b98"
      },
      "execution_count": 84,
      "outputs": [
        {
          "output_type": "execute_result",
          "data": {
            "text/plain": [
              "Airline            0\n",
              "Date_of_Journey    0\n",
              "Source             0\n",
              "Destination        0\n",
              "Route              0\n",
              "Dep_Time           0\n",
              "Arrival_Time       0\n",
              "Duration           0\n",
              "Total_Stops        0\n",
              "Additional_Info    0\n",
              "Price              0\n",
              "dtype: int64"
            ]
          },
          "metadata": {},
          "execution_count": 84
        }
      ]
    },
    {
      "cell_type": "markdown",
      "source": [
        "# Top 10 Aviation companies whose tickets are sold most."
      ],
      "metadata": {
        "id": "YbqUeCkPI-AS"
      }
    },
    {
      "cell_type": "code",
      "source": [
        "df.columns"
      ],
      "metadata": {
        "id": "0ELJQWsZIzIE",
        "outputId": "f6801a30-ff5d-4aad-bc0c-9fb24dfae55f",
        "colab": {
          "base_uri": "https://localhost:8080/"
        }
      },
      "execution_count": 85,
      "outputs": [
        {
          "output_type": "execute_result",
          "data": {
            "text/plain": [
              "Index(['Airline', 'Date_of_Journey', 'Source', 'Destination', 'Route',\n",
              "       'Dep_Time', 'Arrival_Time', 'Duration', 'Total_Stops',\n",
              "       'Additional_Info', 'Price'],\n",
              "      dtype='object')"
            ]
          },
          "metadata": {},
          "execution_count": 85
        }
      ]
    },
    {
      "cell_type": "code",
      "source": [
        "df.Airline.value_counts()[0:10]"
      ],
      "metadata": {
        "id": "C0iG9AwZ9rxn",
        "outputId": "cfd92150-3b37-4b2b-dfeb-07d2c51062b3",
        "colab": {
          "base_uri": "https://localhost:8080/"
        }
      },
      "execution_count": 86,
      "outputs": [
        {
          "output_type": "execute_result",
          "data": {
            "text/plain": [
              "Jet Airways                          3849\n",
              "IndiGo                               2053\n",
              "Air India                            1751\n",
              "Multiple carriers                    1196\n",
              "SpiceJet                              818\n",
              "Vistara                               479\n",
              "Air Asia                              319\n",
              "GoAir                                 194\n",
              "Multiple carriers Premium economy      13\n",
              "Jet Airways Business                    6\n",
              "Name: Airline, dtype: int64"
            ]
          },
          "metadata": {},
          "execution_count": 86
        }
      ]
    },
    {
      "cell_type": "code",
      "source": [
        "plt.figure(figsize=(15,8))\n",
        "sns.countplot(x='Airline', data= df, palette = \"Set2\", order= df['Airline'].value_counts().index)\n",
        "plt.title('Top 10 Aviation companies whose tickets are sold most', weight='bold', fontsize=25)\n",
        "plt.xlabel(\"Aviation company name\", weight='bold',fontsize=20)\n",
        "plt.ylabel(\"Counts\",weight='bold',fontsize=20)\n",
        "plt.xticks(rotation=90,weight='bold')\n",
        "plt.show()"
      ],
      "metadata": {
        "id": "0yRlxbh4JFGn",
        "outputId": "c69d2f4e-cfdc-4105-a766-085bd9853923",
        "colab": {
          "base_uri": "https://localhost:8080/",
          "height": 543
        }
      },
      "execution_count": 87,
      "outputs": [
        {
          "output_type": "display_data",
          "data": {
            "text/plain": [
              "<Figure size 1080x576 with 1 Axes>"
            ],
            "image/png": "[encoded data removed]"
          },
          "metadata": {
            "needs_background": "light"
          }
        }
      ]
    },
    {
      "cell_type": "markdown",
      "source": [
        "#Check mean price of Jet Airways whose flight tickets are sold the most"
      ],
      "metadata": {
        "id": "2gCbfXtO0qj2"
      }
    },
    {
      "cell_type": "code",
      "source": [
        "airlines = df.Airline.unique()\n",
        "airlines"
      ],
      "metadata": {
        "id": "yInGm4W71bvH",
        "outputId": "36f020be-6564-4786-f14b-abe92e1cf51b",
        "colab": {
          "base_uri": "https://localhost:8080/"
        }
      },
      "execution_count": 88,
      "outputs": [
        {
          "output_type": "execute_result",
          "data": {
            "text/plain": [
              "array(['IndiGo', 'Air India', 'Jet Airways', 'SpiceJet',\n",
              "       'Multiple carriers', 'GoAir', 'Vistara', 'Air Asia',\n",
              "       'Vistara Premium economy', 'Jet Airways Business',\n",
              "       'Multiple carriers Premium economy', 'Trujet'], dtype=object)"
            ]
          },
          "metadata": {},
          "execution_count": 88
        }
      ]
    },
    {
      "cell_type": "code",
      "source": [
        "for i in airlines:\n",
        "  airline_mean_price = df[df['Airline']== i]['Price'].mean()\n",
        "  print(f\"The mean price of {i} Airline is {round(airline_mean_price,2)} rupees \\n\")"
      ],
      "metadata": {
        "id": "X_imFsgs1ePm",
        "outputId": "d85a367d-6ef6-4c45-df7f-0c2f768c9ce0",
        "colab": {
          "base_uri": "https://localhost:8080/"
        }
      },
      "execution_count": 89,
      "outputs": [
        {
          "output_type": "stream",
          "name": "stdout",
          "text": [
            "The mean price of IndiGo Airline is 5673.68 rupees \n",
            "\n",
            "The mean price of Air India Airline is 9612.43 rupees \n",
            "\n",
            "The mean price of Jet Airways Airline is 11643.92 rupees \n",
            "\n",
            "The mean price of SpiceJet Airline is 4338.28 rupees \n",
            "\n",
            "The mean price of Multiple carriers Airline is 10902.68 rupees \n",
            "\n",
            "The mean price of GoAir Airline is 5861.06 rupees \n",
            "\n",
            "The mean price of Vistara Airline is 7796.35 rupees \n",
            "\n",
            "The mean price of Air Asia Airline is 5590.26 rupees \n",
            "\n",
            "The mean price of Vistara Premium economy Airline is 8962.33 rupees \n",
            "\n",
            "The mean price of Jet Airways Business Airline is 58358.67 rupees \n",
            "\n",
            "The mean price of Multiple carriers Premium economy Airline is 11418.85 rupees \n",
            "\n",
            "The mean price of Trujet Airline is 4140.0 rupees \n",
            "\n"
          ]
        }
      ]
    },
    {
      "cell_type": "code",
      "source": [
        "avg_price = []\n",
        "max_price = []\n",
        "min_price = []\n",
        "for i in airlines:\n",
        "  airline_mean_price = df[df['Airline']== i]['Price'].mean()\n",
        "  airline_max_price = df[df['Airline']== i]['Price'].max()\n",
        "  airline_min_price = df[df['Airline']== i]['Price'].min()\n",
        "  avg_price.append(floor(airline_mean_price))\n",
        "  max_price.append(airline_max_price)\n",
        "  min_price.append(airline_min_price)\n",
        "\n"
      ],
      "metadata": {
        "id": "-q-Wgfhi2gfW"
      },
      "execution_count": 111,
      "outputs": []
    },
    {
      "cell_type": "code",
      "source": [
        "dict = {'name': airlines, 'Avg_price': avg_price, 'max_price': max_price, 'min_price': min_price}\n",
        "df1 = pd.DataFrame(dict)\n",
        "df1"
      ],
      "metadata": {
        "id": "ws3am0oT9Ubd",
        "outputId": "2f77170f-344d-4377-e5d9-263025366a64",
        "colab": {
          "base_uri": "https://localhost:8080/",
          "height": 425
        }
      },
      "execution_count": 113,
      "outputs": [
        {
          "output_type": "execute_result",
          "data": {
            "text/plain": [
              "                                 name  Avg_price  max_price  min_price\n",
              "0                              IndiGo       5673      22153       2227\n",
              "1                           Air India       9612      31945       2050\n",
              "2                         Jet Airways      11643      54826       1840\n",
              "3                            SpiceJet       4338      23267       1759\n",
              "4                   Multiple carriers      10902      36983       5797\n",
              "5                               GoAir       5861      22794       3398\n",
              "6                             Vistara       7796      21730       3687\n",
              "7                            Air Asia       5590      13774       3383\n",
              "8             Vistara Premium economy       8962      11793       5969\n",
              "9                Jet Airways Business      58358      79512      46490\n",
              "10  Multiple carriers Premium economy      11418      14629       9845\n",
              "11                             Trujet       4140       4140       4140"
            ],
            "text/html": [
              "\n",
              "  <div id=\"df-eb6bc90a-08f2-427a-9873-ba268bea3965\">\n",
              "    <div class=\"colab-df-container\">\n",
              "      <div>\n",
              "<style scoped>\n",
              "    .dataframe tbody tr th:only-of-type {\n",
              "        vertical-align: middle;\n",
              "    }\n",
              "\n",
              "    .dataframe tbody tr th {\n",
              "        vertical-align: top;\n",
              "    }\n",
              "\n",
              "    .dataframe thead th {\n",
              "        text-align: right;\n",
              "    }\n",
              "</style>\n",
              "<table border=\"1\" class=\"dataframe\">\n",
              "  <thead>\n",
              "    <tr style=\"text-align: right;\">\n",
              "      <th></th>\n",
              "      <th>name</th>\n",
              "      <th>Avg_price</th>\n",
              "      <th>max_price</th>\n",
              "      <th>min_price</th>\n",
              "    </tr>\n",
              "  </thead>\n",
              "  <tbody>\n",
              "    <tr>\n",
              "      <th>0</th>\n",
              "      <td>IndiGo</td>\n",
              "      <td>5673</td>\n",
              "      <td>22153</td>\n",
              "      <td>2227</td>\n",
              "    </tr>\n",
              "    <tr>\n",
              "      <th>1</th>\n",
              "      <td>Air India</td>\n",
              "      <td>9612</td>\n",
              "      <td>31945</td>\n",
              "      <td>2050</td>\n",
              "    </tr>\n",
              "    <tr>\n",
              "      <th>2</th>\n",
              "      <td>Jet Airways</td>\n",
              "      <td>11643</td>\n",
              "      <td>54826</td>\n",
              "      <td>1840</td>\n",
              "    </tr>\n",
              "    <tr>\n",
              "      <th>3</th>\n",
              "      <td>SpiceJet</td>\n",
              "      <td>4338</td>\n",
              "      <td>23267</td>\n",
              "      <td>1759</td>\n",
              "    </tr>\n",
              "    <tr>\n",
              "      <th>4</th>\n",
              "      <td>Multiple carriers</td>\n",
              "      <td>10902</td>\n",
              "      <td>36983</td>\n",
              "      <td>5797</td>\n",
              "    </tr>\n",
              "    <tr>\n",
              "      <th>5</th>\n",
              "      <td>GoAir</td>\n",
              "      <td>5861</td>\n",
              "      <td>22794</td>\n",
              "      <td>3398</td>\n",
              "    </tr>\n",
              "    <tr>\n",
              "      <th>6</th>\n",
              "      <td>Vistara</td>\n",
              "      <td>7796</td>\n",
              "      <td>21730</td>\n",
              "      <td>3687</td>\n",
              "    </tr>\n",
              "    <tr>\n",
              "      <th>7</th>\n",
              "      <td>Air Asia</td>\n",
              "      <td>5590</td>\n",
              "      <td>13774</td>\n",
              "      <td>3383</td>\n",
              "    </tr>\n",
              "    <tr>\n",
              "      <th>8</th>\n",
              "      <td>Vistara Premium economy</td>\n",
              "      <td>8962</td>\n",
              "      <td>11793</td>\n",
              "      <td>5969</td>\n",
              "    </tr>\n",
              "    <tr>\n",
              "      <th>9</th>\n",
              "      <td>Jet Airways Business</td>\n",
              "      <td>58358</td>\n",
              "      <td>79512</td>\n",
              "      <td>46490</td>\n",
              "    </tr>\n",
              "    <tr>\n",
              "      <th>10</th>\n",
              "      <td>Multiple carriers Premium economy</td>\n",
              "      <td>11418</td>\n",
              "      <td>14629</td>\n",
              "      <td>9845</td>\n",
              "    </tr>\n",
              "    <tr>\n",
              "      <th>11</th>\n",
              "      <td>Trujet</td>\n",
              "      <td>4140</td>\n",
              "      <td>4140</td>\n",
              "      <td>4140</td>\n",
              "    </tr>\n",
              "  </tbody>\n",
              "</table>\n",
              "</div>\n",
              "      <button class=\"colab-df-convert\" onclick=\"convertToInteractive('df-eb6bc90a-08f2-427a-9873-ba268bea3965')\"\n",
              "              title=\"Convert this dataframe to an interactive table.\"\n",
              "              style=\"display:none;\">\n",
              "        \n",
              "  <svg xmlns=\"http://www.w3.org/2000/svg\" height=\"24px\"viewBox=\"0 0 24 24\"\n",
              "       width=\"24px\">\n",
              "    <path d=\"M0 0h24v24H0V0z\" fill=\"none\"/>\n",
              "    <path d=\"M18.56 5.44l.94 2.06.94-2.06 2.06-.94-2.06-.94-.94-2.06-.94 2.06-2.06.94zm-11 1L8.5 8.5l.94-2.06 2.06-.94-2.06-.94L8.5 2.5l-.94 2.06-2.06.94zm10 10l.94 2.06.94-2.06 2.06-.94-2.06-.94-.94-2.06-.94 2.06-2.06.94z\"/><path d=\"M17.41 7.96l-1.37-1.37c-.4-.4-.92-.59-1.43-.59-.52 0-1.04.2-1.43.59L10.3 9.45l-7.72 7.72c-.78.78-.78 2.05 0 2.83L4 21.41c.39.39.9.59 1.41.59.51 0 1.02-.2 1.41-.59l7.78-7.78 2.81-2.81c.8-.78.8-2.07 0-2.86zM5.41 20L4 18.59l7.72-7.72 1.47 1.35L5.41 20z\"/>\n",
              "  </svg>\n",
              "      </button>\n",
              "      \n",
              "  <style>\n",
              "    .colab-df-container {\n",
              "      display:flex;\n",
              "      flex-wrap:wrap;\n",
              "      gap: 12px;\n",
              "    }\n",
              "\n",
              "    .colab-df-convert {\n",
              "      background-color: #E8F0FE;\n",
              "      border: none;\n",
              "      border-radius: 50%;\n",
              "      cursor: pointer;\n",
              "      display: none;\n",
              "      fill: #1967D2;\n",
              "      height: 32px;\n",
              "      padding: 0 0 0 0;\n",
              "      width: 32px;\n",
              "    }\n",
              "\n",
              "    .colab-df-convert:hover {\n",
              "      background-color: #E2EBFA;\n",
              "      box-shadow: 0px 1px 2px rgba(60, 64, 67, 0.3), 0px 1px 3px 1px rgba(60, 64, 67, 0.15);\n",
              "      fill: #174EA6;\n",
              "    }\n",
              "\n",
              "    [theme=dark] .colab-df-convert {\n",
              "      background-color: #3B4455;\n",
              "      fill: #D2E3FC;\n",
              "    }\n",
              "\n",
              "    [theme=dark] .colab-df-convert:hover {\n",
              "      background-color: #434B5C;\n",
              "      box-shadow: 0px 1px 3px 1px rgba(0, 0, 0, 0.15);\n",
              "      filter: drop-shadow(0px 1px 2px rgba(0, 0, 0, 0.3));\n",
              "      fill: #FFFFFF;\n",
              "    }\n",
              "  </style>\n",
              "\n",
              "      <script>\n",
              "        const buttonEl =\n",
              "          document.querySelector('#df-eb6bc90a-08f2-427a-9873-ba268bea3965 button.colab-df-convert');\n",
              "        buttonEl.style.display =\n",
              "          google.colab.kernel.accessAllowed ? 'block' : 'none';\n",
              "\n",
              "        async function convertToInteractive(key) {\n",
              "          const element = document.querySelector('#df-eb6bc90a-08f2-427a-9873-ba268bea3965');\n",
              "          const dataTable =\n",
              "            await google.colab.kernel.invokeFunction('convertToInteractive',\n",
              "                                                     [key], {});\n",
              "          if (!dataTable) return;\n",
              "\n",
              "          const docLinkHtml = 'Like what you see? Visit the ' +\n",
              "            '<a target=\"_blank\" href=https://colab.research.google.com/notebooks/data_table.ipynb>data table notebook</a>'\n",
              "            + ' to learn more about interactive tables.';\n",
              "          element.innerHTML = '';\n",
              "          dataTable['output_type'] = 'display_data';\n",
              "          await google.colab.output.renderOutput(dataTable, element);\n",
              "          const docLink = document.createElement('div');\n",
              "          docLink.innerHTML = docLinkHtml;\n",
              "          element.appendChild(docLink);\n",
              "        }\n",
              "      </script>\n",
              "    </div>\n",
              "  </div>\n",
              "  "
            ]
          },
          "metadata": {},
          "execution_count": 113
        }
      ]
    },
    {
      "cell_type": "code",
      "source": [],
      "metadata": {
        "id": "tRKwQhJu9yyE"
      },
      "execution_count": null,
      "outputs": []
    }
  ]
}